{
 "cells": [
  {
   "cell_type": "code",
   "execution_count": 6,
   "metadata": {},
   "outputs": [],
   "source": [
    "import numpy as np\n",
    "\n",
    "# from pyspark import SparkContext\n",
    "# sc = SparkContext()\n",
    "# from pyspark.sql import SQLContext\n",
    "# spark = SQLContext(sc)\n",
    "\n",
    "from pyspark.sql.types import *\n",
    "from pyspark.sql import Row"
   ]
  },
  {
   "cell_type": "code",
   "execution_count": 8,
   "metadata": {},
   "outputs": [],
   "source": [
    "def _create_df():\n",
    "    schema = StructType([\n",
    "        StructField('name', StringType()),\n",
    "        StructField('age', FloatType()),\n",
    "        StructField('salary', FloatType())\n",
    "    ])\n",
    "\n",
    "    rows = [\n",
    "        Row(name='alada', age=12.0, salary=1000.0),\n",
    "        Row(name='bladb', age=13.0, salary=2000.0),\n",
    "        Row(name='clabc', age=11.0, salary=1500.0),\n",
    "    ]\n",
    "    df = spark.createDataFrame(rows, schema)\n",
    "    return df"
   ]
  },
  {
   "cell_type": "code",
   "execution_count": 13,
   "metadata": {},
   "outputs": [],
   "source": [
    "def get_describe_all(temp_df):\n",
    "    a = np.array(temp_df.describe().collect())\n",
    "    a = a[:, 2:].astype(float) # remove ISDN\n",
    "    return a\n",
    "\n",
    "def get_describe_clusters(df, k):\n",
    "    describe_clusters = []\n",
    "    for i in range(k):\n",
    "        # select df columns :-2 to remove features and prediction column\n",
    "        temp_df = df.select(df.columns[:-2]).where(df.prediction == i)\n",
    "        a = get_describe_all(temp_df)\n",
    "        describe_clusters.append(a)\n",
    "    return describe_clusters"
   ]
  },
  {
   "cell_type": "code",
   "execution_count": 33,
   "metadata": {},
   "outputs": [],
   "source": [
    "def _standard_scale(df, describe_all):\n",
    "    number_of_features = describe_all.shape[1]\n",
    "    means = describe_all[1]\n",
    "    stds  = describe_all[2]\n",
    "    columns = df.columns\n",
    "    \n",
    "    for i in range(number_of_features):\n",
    "        df = df.withColumn(columns[i+1], (df[columns[i+1]] - means[i]) / stds[i] )\n",
    "    return df\n"
   ]
  },
  {
   "cell_type": "code",
   "execution_count": 34,
   "metadata": {},
   "outputs": [
    {
     "name": "stdout",
     "output_type": "stream",
     "text": [
      "+-----+----+------+\n",
      "| name| age|salary|\n",
      "+-----+----+------+\n",
      "|alada|12.0|1000.0|\n",
      "|bladb|13.0|2000.0|\n",
      "|clabc|11.0|1500.0|\n",
      "+-----+----+------+\n",
      "\n",
      "+-------+-----+----+------+\n",
      "|summary| name| age|salary|\n",
      "+-------+-----+----+------+\n",
      "|  count|    3|   3|     3|\n",
      "|   mean| null|12.0|1500.0|\n",
      "| stddev| null| 1.0| 500.0|\n",
      "|    min|alada|11.0|1000.0|\n",
      "|    max|clabc|13.0|2000.0|\n",
      "+-------+-----+----+------+\n",
      "\n"
     ]
    }
   ],
   "source": [
    "df = _create_df()\n",
    "df.show()\n",
    "df.describe().show()"
   ]
  },
  {
   "cell_type": "code",
   "execution_count": 35,
   "metadata": {},
   "outputs": [
    {
     "name": "stdout",
     "output_type": "stream",
     "text": [
      "[[3.0e+00 3.0e+00]\n",
      " [1.2e+01 1.5e+03]\n",
      " [1.0e+00 5.0e+02]\n",
      " [1.1e+01 1.0e+03]\n",
      " [1.3e+01 2.0e+03]]\n"
     ]
    }
   ],
   "source": [
    "describe_all = get_describe_all(df)\n",
    "print(describe_all)"
   ]
  },
  {
   "cell_type": "code",
   "execution_count": 36,
   "metadata": {},
   "outputs": [],
   "source": [
    "scaled_df = _standard_scale(df, describe_all)"
   ]
  },
  {
   "cell_type": "code",
   "execution_count": 37,
   "metadata": {},
   "outputs": [
    {
     "name": "stdout",
     "output_type": "stream",
     "text": [
      "+-----+----+------+\n",
      "| name| age|salary|\n",
      "+-----+----+------+\n",
      "|alada|12.0|1000.0|\n",
      "|bladb|13.0|2000.0|\n",
      "|clabc|11.0|1500.0|\n",
      "+-----+----+------+\n",
      "\n"
     ]
    }
   ],
   "source": [
    "df.show()"
   ]
  },
  {
   "cell_type": "code",
   "execution_count": 38,
   "metadata": {},
   "outputs": [
    {
     "name": "stdout",
     "output_type": "stream",
     "text": [
      "+-----+----+------+\n",
      "| name| age|salary|\n",
      "+-----+----+------+\n",
      "|alada| 0.0|  -1.0|\n",
      "|bladb| 1.0|   1.0|\n",
      "|clabc|-1.0|   0.0|\n",
      "+-----+----+------+\n",
      "\n"
     ]
    }
   ],
   "source": [
    "scaled_df.show()"
   ]
  },
  {
   "cell_type": "code",
   "execution_count": null,
   "metadata": {},
   "outputs": [],
   "source": []
  }
 ],
 "metadata": {
  "kernelspec": {
   "display_name": "Python 3",
   "language": "python",
   "name": "python3"
  },
  "language_info": {
   "codemirror_mode": {
    "name": "ipython",
    "version": 3
   },
   "file_extension": ".py",
   "mimetype": "text/x-python",
   "name": "python",
   "nbconvert_exporter": "python",
   "pygments_lexer": "ipython3",
   "version": "3.5.2"
  }
 },
 "nbformat": 4,
 "nbformat_minor": 2
}
