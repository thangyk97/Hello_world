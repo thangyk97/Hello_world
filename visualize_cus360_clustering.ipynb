{
 "cells": [
  {
   "cell_type": "code",
   "execution_count": 146,
   "metadata": {},
   "outputs": [],
   "source": [
    "import numpy as np \n",
    "import matplotlib.pyplot as plt \n",
    "import matplotlib.patches as mpatches\n",
    "import pandas as pd\n",
    "\n",
    "colors  = np.random.rand(16,3)\n",
    "attributes = [\n",
    "\t\t\t\t'T_TOT_CHARGE',\n",
    "\t\t\t\t'V_TIMES',\n",
    "\t\t\t\t'V_DURATION',\n",
    "\t\t\t\t'V_TOT_CHARGE',\n",
    "\t\t\t\t'V_INT_TIMES',\n",
    "\t\t\t\t'V_INT_DURATION',\n",
    "\t\t\t\t'V_INT_ORG_CHARGE',\n",
    "\t\t\t\t'V_EXT_TIMES',\n",
    "\t\t\t\t'V_EXT_DURATION',\n",
    "\t\t\t\t'V_EXT_ORG_CHARGE',\n",
    "\t\t\t\t'V_INTN_TIMES',\n",
    "\t\t\t\t'V_INTN_DURATION',\n",
    "\t\t\t\t'V_INTN_ORG_CHARGE',\n",
    "\t\t\t\t'V_TIMES_10S',\n",
    "\t\t\t\t'V_TIMES_30S',\n",
    "\t\t\t\t'V_TIMES_60S'\n",
    "\t\t\t]"
   ]
  },
  {
   "cell_type": "code",
   "execution_count": 2,
   "metadata": {},
   "outputs": [],
   "source": [
    "def visualize_centroids(centroids, K):\n",
    "    centroids = np.array(centroids)\n",
    "    fig, ax = plt.subplots()\n",
    "    ind = np.arange(K)*10  # the x locations for the groups\n",
    "    width = 0.35       # the width of the bars\n",
    "\n",
    "\n",
    "    # draw\n",
    "    for i in range(centroids.shape[1]):\n",
    "        ax.bar(ind + i*width, centroids[:, i], width, color=colors[i, :])\n",
    "\n",
    "\n",
    "    # add some text for labels, title and axes ticks\n",
    "    ax.set_ylabel('x')\n",
    "    ax.set_title('s')\n",
    "    ax.set_xticks(ind + width / 2)\n",
    "    ax.legend(attributes)\n",
    "\n"
   ]
  },
  {
   "cell_type": "code",
   "execution_count": 25,
   "metadata": {},
   "outputs": [],
   "source": [
    "def draw_elbow():\n",
    "\tplt.figure()\n",
    "\tcost = np.load('cost.npy')\n",
    "\tplt.plot(np.array(range(2, len(cost))), cost[2:])"
   ]
  },
  {
   "cell_type": "code",
   "execution_count": 115,
   "metadata": {},
   "outputs": [],
   "source": [
    "def visualize_line_centers(centers, describe_clusters,K):\n",
    "    colors = np.random.rand(K, 3)\n",
    "    plt.figure(figsize=(30,10))\n",
    "    plt.xticks(range(len(attributes)), attributes)\n",
    "    \n",
    "    legends = [\n",
    "        mpatches.Patch(\n",
    "            color=colors[i],\n",
    "            label='Cluster '+str(i)+' : '+str(int(describe_clusters[i][0][0]))\n",
    "        ) for i in range(K)\n",
    "    ]\n",
    "    plt.legend(handles=legends)\n",
    "    x = range(centers.shape[1])\n",
    "    for i in range(K):\n",
    "        plt.plot(x, centers[i], linewidth=8, color=colors[i])\n",
    "        plt.scatter(x, centers[i], s=400, color=colors[i])\n",
    "    "
   ]
  },
  {
   "cell_type": "code",
   "execution_count": 155,
   "metadata": {},
   "outputs": [],
   "source": [
    "def show_save_distance_table(centers):\n",
    "    K = centers.shape[0]\n",
    "    distances = np.zeros([K, K])\n",
    "    for i in range(K):\n",
    "        for j in range(K):\n",
    "            distances[i][j] = np.linalg.norm(centers[i] - centers[j])\n",
    "    # Save to .xlsx file\n",
    "    clusters = ['cluster '+str(i) for i in range(K)]\n",
    "    df = pd.DataFrame(distances, columns=clusters, index=clusters)\n",
    "    df.to_excel('csv/distances.xlsx')\n",
    "    print(df)\n"
   ]
  },
  {
   "cell_type": "code",
   "execution_count": 177,
   "metadata": {},
   "outputs": [],
   "source": [
    "def show_save_F_test(F_test):\n",
    "    df = pd.DataFrame(F_test, columns=['F_test'], index=attributes)\n",
    "    df = df.sort_values(by=['F_test'], ascending=False)\n",
    "    df.to_excel('csv/F_test.xlsx')\n",
    "    df.head()"
   ]
  },
  {
   "cell_type": "code",
   "execution_count": 178,
   "metadata": {},
   "outputs": [],
   "source": [
    "centers = np.load('centers.npy')\n",
    "describe_clusters = np.load('describe_clusters.npy')\n",
    "# visualize_line_centers(centers, describe_clusters, 5)\n",
    "# draw_distance_table(centers)\n",
    "# print(describe_clusters)\n",
    "F_test = np.load('F_test.npy')\n",
    "show_save_F_test(F_test)"
   ]
  },
  {
   "cell_type": "code",
   "execution_count": 170,
   "metadata": {},
   "outputs": [],
   "source": [
    "###########\n",
    "plt.show()"
   ]
  },
  {
   "cell_type": "code",
   "execution_count": null,
   "metadata": {},
   "outputs": [],
   "source": []
  },
  {
   "cell_type": "code",
   "execution_count": null,
   "metadata": {},
   "outputs": [],
   "source": []
  }
 ],
 "metadata": {
  "kernelspec": {
   "display_name": "Python 3",
   "language": "python",
   "name": "python3"
  },
  "language_info": {
   "codemirror_mode": {
    "name": "ipython",
    "version": 3
   },
   "file_extension": ".py",
   "mimetype": "text/x-python",
   "name": "python",
   "nbconvert_exporter": "python",
   "pygments_lexer": "ipython3",
   "version": "3.5.2"
  }
 },
 "nbformat": 4,
 "nbformat_minor": 2
}
